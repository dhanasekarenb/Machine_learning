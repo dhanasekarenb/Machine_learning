{
  "nbformat": 4,
  "nbformat_minor": 0,
  "metadata": {
    "colab": {
      "provenance": [],
      "authorship_tag": "ABX9TyNXFk3EWQrQx+mrPPX9zbCP",
      "include_colab_link": true
    },
    "kernelspec": {
      "name": "python3",
      "display_name": "Python 3"
    },
    "language_info": {
      "name": "python"
    }
  },
  "cells": [
    {
      "cell_type": "markdown",
      "metadata": {
        "id": "view-in-github",
        "colab_type": "text"
      },
      "source": [
        "<a href=\"https://colab.research.google.com/github/dhanasekarenb/Machine_learning/blob/master/Linear_regression.ipynb\" target=\"_parent\"><img src=\"https://colab.research.google.com/assets/colab-badge.svg\" alt=\"Open In Colab\"/></a>"
      ]
    },
    {
      "cell_type": "markdown",
      "source": [
        "\n",
        "# Linear regression\n"
      ],
      "metadata": {
        "id": "3NEHr3r7VSDD"
      }
    },
    {
      "cell_type": "code",
      "execution_count": null,
      "metadata": {
        "id": "0CxEol-FVB1d"
      },
      "outputs": [],
      "source": [
        "import numpy as np\n",
        "import pandas as pd\n",
        "import matplotlib.pyplot as plt"
      ]
    },
    {
      "cell_type": "markdown",
      "source": [
        "# Creating a dataset"
      ],
      "metadata": {
        "id": "KDC9_49zVojj"
      }
    },
    {
      "cell_type": "code",
      "source": [
        "x = np.array([1, 2, 3, 4, 5])\n",
        "\n",
        "y = np.array(x * 2)"
      ],
      "metadata": {
        "id": "DkprUX00VRfB"
      },
      "execution_count": null,
      "outputs": []
    },
    {
      "cell_type": "markdown",
      "source": [
        "# Bais and weight\n",
        "\n",
        "### straight line Formula :  y = mx + b\n",
        "\n",
        "\n",
        "*   we know x and y\n",
        "*   β1, weight, m-> slope of the line, how much y changes for each unit of x changes\n",
        "*   β0, bais, b-> y-intercept of the line\n",
        "\n"
      ],
      "metadata": {
        "id": "9-EcwhnqV6pw"
      }
    },
    {
      "cell_type": "code",
      "source": [
        "w_0 = 1 # bais\n",
        "w_1 = 1 # weight"
      ],
      "metadata": {
        "id": "C05kGu8CXqLg"
      },
      "execution_count": null,
      "outputs": []
    },
    {
      "cell_type": "markdown",
      "source": [
        "# Predicting"
      ],
      "metadata": {
        "id": "MrTQk1ztn3XF"
      }
    },
    {
      "cell_type": "code",
      "source": [
        "def predict(x, y, w_0, w_1):\n",
        "  return w_1 * x + w_0\n"
      ],
      "metadata": {
        "id": "0M6lRZU9oEf8"
      },
      "execution_count": null,
      "outputs": []
    },
    {
      "cell_type": "code",
      "source": [
        "predicted_val = predict(x, y, w_0, w_1)\n",
        "\n",
        "print(predicted_val)"
      ],
      "metadata": {
        "colab": {
          "base_uri": "https://localhost:8080/"
        },
        "id": "nqfr0bP_odPQ",
        "outputId": "09582b46-076f-4b78-c1ba-50dc1cd6028c"
      },
      "execution_count": null,
      "outputs": [
        {
          "output_type": "stream",
          "name": "stdout",
          "text": [
            "[2 3 4 5 6]\n"
          ]
        }
      ]
    },
    {
      "cell_type": "markdown",
      "source": [
        " # Error\n",
        " ## MSE - Mean Square Error"
      ],
      "metadata": {
        "id": "sZ54jahQoMyL"
      }
    },
    {
      "cell_type": "code",
      "source": [
        "def MSE(act_val, pre_val):\n",
        "  return np.mean((act_val - pre_val)**2)"
      ],
      "metadata": {
        "id": "jreT5yQ_oMiE"
      },
      "execution_count": null,
      "outputs": []
    },
    {
      "cell_type": "code",
      "source": [
        "error = MSE(x, predicted_val)\n",
        "print(error)"
      ],
      "metadata": {
        "colab": {
          "base_uri": "https://localhost:8080/"
        },
        "id": "pqEV0O1Co_jb",
        "outputId": "2de5e395-0621-43bf-9dad-765298c1c4aa"
      },
      "execution_count": null,
      "outputs": [
        {
          "output_type": "stream",
          "name": "stdout",
          "text": [
            "1.0\n"
          ]
        }
      ]
    },
    {
      "cell_type": "markdown",
      "source": [
        "### Optimizing \\( w_0 \\) bais and \\( w_1 \\) weight\n",
        "\n",
        "#### Derivatives of MSE with respect to \\( w_0 \\) and \\( w_1 \\)\n",
        "\n",
        "The Mean Squared Error (MSE) is given by:\n",
        "\n",
        "$$\n",
        "MSE = \\frac{1}{n} \\sum_{i=1}^{n} (y_i - (w_1 x_i + w_0))^2\n",
        "$$\n",
        "\n",
        "We apply the chain rule to simplify and compute the derivatives:\n",
        "\n",
        "$$\n",
        "MSE = u^2 \\quad \\text{where} \\quad u = y_i - (w_1 x_i + w_0)\n",
        "$$\n",
        "\n",
        "Now, we compute the derivative of \\( MSE \\) with respect to \\( w_0 \\):\n",
        "\n",
        "$$\n",
        "\\frac{\\partial MSE}{\\partial w_0} = \\frac{\\partial MSE}{\\partial u} \\cdot \\frac{\\partial u}{\\partial w_0}\n",
        "$$\n",
        "\n",
        "#### Derivative of \\( u \\) with respect to \\( w_0 \\):\n",
        "\n",
        "$$\n",
        "u = y_i - (w_1 x_i + w_0)\n",
        "$$\n",
        "\n",
        "Taking the derivative with respect to \\( w_0 \\):\n",
        "\n",
        "$$\n",
        "\\frac{\\partial u}{\\partial w_0} = -1\n",
        "$$\n",
        "\n",
        "#### Derivative of \\( MSE \\) with respect to \\( u \\):\n",
        "\n",
        "$$\n",
        "\\frac{\\partial MSE}{\\partial u} = 2u_i\n",
        "$$\n",
        "\n",
        "Thus, the derivative of \\( MSE \\) with respect to \\( w_0 \\) is:\n",
        "\n",
        "$$\n",
        "\\frac{\\partial MSE}{\\partial w_0} = -\\frac{2}{n} \\sum_{i=1}^{n} (y_i - (w_1 x_i + w_0))\n",
        "$$\n",
        "\n",
        "----------------------------------------\n",
        "Now, we compute the derivative of \\( MSE \\) with respect to \\( w_1 \\):\n",
        "\n",
        "$$\n",
        "\\frac{\\partial MSE}{\\partial w_1} = \\frac{\\partial MSE}{\\partial u} \\cdot \\frac{\\partial u}{\\partial w_1}\n",
        "$$\n",
        "\n",
        "#### Derivative of \\( u \\) with respect to \\( w_1 \\):\n",
        "\n",
        "$$\n",
        "u = y_i - (w_1 x_i + w_0)\n",
        "$$\n",
        "\n",
        "Taking the derivative with respect to \\( w_1 \\):\n",
        "\n",
        "$$\n",
        "\\frac{\\partial u}{\\partial w_1} = -xi\n",
        "$$\n",
        "\n",
        "#### Derivative of \\( MSE \\) with respect to \\( u \\):\n",
        "\n",
        "$$\n",
        "\\frac{\\partial MSE}{\\partial u} = 2u_i\n",
        "$$\n",
        "\n",
        "Thus, the derivative of \\( MSE \\) with respect to \\( w_1 \\) is:\n",
        "\n",
        "$$\n",
        "\\frac{\\partial MSE}{\\partial w_1} = -\\frac{2}{n} \\sum_{i=1}^{n} (xi)(y_i - (w_1 x_i + w_0))\n",
        "$$"
      ],
      "metadata": {
        "id": "Ln4lJgkYhKXP"
      }
    },
    {
      "cell_type": "code",
      "source": [
        "def compute_gradient(x, y, w_0, w_1):\n",
        "  y_pred = predict(x, y, w_0, w_1)\n",
        "  n = len(x)\n",
        "\n",
        "  dw_0 = -2/n * (np.sum(y - y_pred))\n",
        "  dw_1 = -2/n * (np.sum((y - y_pred) * (x)))\n",
        "\n",
        "  return dw_0, dw_1\n"
      ],
      "metadata": {
        "id": "Q8cvZ-ZD1fvq"
      },
      "execution_count": null,
      "outputs": []
    },
    {
      "cell_type": "markdown",
      "source": [
        "# Update the Parameter w_0 and w_1\n",
        "- alpha is learning rate\n",
        "- alpha should be big or small\n",
        "- mostly 0.1, 0.01, 0.0001"
      ],
      "metadata": {
        "id": "3lso-MNn5lT-"
      }
    },
    {
      "cell_type": "code",
      "source": [
        "def update_parameter(w_0, w_1, dw_0, dw_1, alpha):\n",
        "  w_0 = w_0 - dw_0 * alpha\n",
        "  w_1 = w_1 - dw_1 * alpha\n",
        "  return w_0, w_1"
      ],
      "metadata": {
        "id": "cTY3rzmA5o2a"
      },
      "execution_count": null,
      "outputs": []
    },
    {
      "cell_type": "code",
      "source": [
        "epochs = 1000\n",
        "alpha = 0.01\n",
        "\n",
        "for i in range(epochs):\n",
        "  dw_0, dw_1 = compute_gradient(x, y, w_0, w_1)\n",
        "  w_0, w_1 = update_parameter(w_0, w_1, dw_0, dw_1, alpha)\n",
        "\n",
        "  if i % 100 == 0:\n",
        "    print(f\"epochs {i}\", MSE(y, predict(x, y, w_0, w_1)))\n",
        "    print(f\"bais {w_0} and weight {w_1}\")\n",
        "\n",
        "print(\"Actual : \", y)\n",
        "print(\"predicted : \", predict(x, y, w_0, w_1))"
      ],
      "metadata": {
        "colab": {
          "base_uri": "https://localhost:8080/"
        },
        "id": "t46a5zhQHrKZ",
        "outputId": "3d8a0aa1-fb87-4639-fda3-0b21658fa5b7"
      },
      "execution_count": null,
      "outputs": [
        {
          "output_type": "stream",
          "name": "stdout",
          "text": [
            "epochs 0 0.25107132233150653\n",
            "bais 1.1327514995904095 and weight 1.650868617180118\n",
            "epochs 100 0.12055043064585165\n",
            "bais 0.8138189829325707 and weight 1.7745851913569686\n",
            "epochs 200 0.061235683468998305\n",
            "bais 0.5800236708466552 and weight 1.8393427438849483\n",
            "epochs 300 0.031105728198776737\n",
            "bais 0.4133934766796868 and weight 1.8854966357454426\n",
            "epochs 400 0.015800694496469904\n",
            "bais 0.29463309025279233 and weight 1.918391358456772\n",
            "epochs 500 0.008026236999672347\n",
            "bais 0.20999039116229884 and weight 1.941836028854794\n",
            "epochs 600 0.004077066383968247\n",
            "bais 0.14966399172157258 and weight 1.9585454741629493\n",
            "epochs 700 0.0020710166295815264\n",
            "bais 0.10666826369556541 and weight 1.9704546013874373\n",
            "epochs 800 0.001052008840687205\n",
            "bais 0.07602442210009941 and weight 1.9789424541338014\n",
            "epochs 900 0.000534386148848884\n",
            "bais 0.05418399583356482 and weight 1.9849919019972697\n",
            "Actual :  [ 2  4  6  8 10]\n",
            "predicted :  [2.0280161  4.01728327 6.00655043 7.9958176  9.98508477]\n"
          ]
        }
      ]
    }
  ]
}